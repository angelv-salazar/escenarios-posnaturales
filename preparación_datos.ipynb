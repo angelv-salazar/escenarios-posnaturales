{
  "nbformat": 4,
  "nbformat_minor": 0,
  "metadata": {
    "colab": {
      "name": "preparación-datos.ipynb",
      "provenance": [],
      "collapsed_sections": [],
      "include_colab_link": true
    },
    "kernelspec": {
      "display_name": "Python 3",
      "name": "python3"
    },
    "language_info": {
      "name": "python"
    },
    "accelerator": "GPU"
  },
  "cells": [
    {
      "cell_type": "markdown",
      "metadata": {
        "id": "view-in-github",
        "colab_type": "text"
      },
      "source": [
        "<a href=\"https://colab.research.google.com/github/angelv-salazar/escenarios-posnaturales/blob/main/preparaci%C3%B3n_datos.ipynb\" target=\"_parent\"><img src=\"https://colab.research.google.com/assets/colab-badge.svg\" alt=\"Open In Colab\"/></a>"
      ]
    },
    {
      "cell_type": "markdown",
      "metadata": {
        "id": "vzNwCqRMxvCo"
      },
      "source": [
        "# Preparación de Datasets (conjuntos de datos)"
      ]
    },
    {
      "cell_type": "code",
      "metadata": {
        "id": "81nfc8JN2EBK",
        "cellView": "form"
      },
      "source": [
        "#@title Importar Librerías\n",
        "#@markdown Librerías requeridas para la manipulación de imágenes\n",
        "!apt install imagemagick > /dev/null 2>&1\n",
        "\n",
        "import glob\n",
        "import os\n",
        "from math import floor, ceil\n",
        "from PIL import Image\n",
        "import numpy as np\n",
        "from tqdm.notebook import tqdm\n",
        "from fastai.vision import verify_images\n",
        "\n"
      ],
      "execution_count": null,
      "outputs": []
    },
    {
      "cell_type": "code",
      "metadata": {
        "id": "42K-qGO7q7I7",
        "cellView": "form"
      },
      "source": [
        "#@title Definir Funciones\n",
        "\n",
        "#@markdown Funciones para la manipulación de imágenes\n",
        "\n",
        "def crop_center(img, ratio):\n",
        "  img = img.copy()\n",
        "  width, height = img.size\n",
        "  crop_size= ceil(ratio * min(img.size))\n",
        " \n",
        "  left = (width - crop_size)/2\n",
        "  top = (height - crop_size)/2\n",
        "  right = (width + crop_size)/2\n",
        "  bottom = (height + crop_size)/2\n",
        "\n",
        "  return img.crop((left, top, right, bottom))\n",
        "\n",
        "def save_crop(img, cnt, path, augment=False):\n",
        "    img = img.copy()\n",
        "\n",
        "    img.save(f'{path}{cnt:08d}.png')\n",
        "    cnt += 1\n",
        "    if augment:\n",
        "        img.transpose(Image.FLIP_LEFT_RIGHT).save(f'{path}/{cnt:08d}.png')\n",
        "        cnt += 1\n",
        "        img.transpose(Image.FLIP_TOP_BOTTOM).save(f'{path}/{cnt:08d}.png')\n",
        "        cnt += 1\n",
        "        img.transpose(Image.ROTATE_180).save(f'{path}/{cnt:08d}.png')\n",
        "        cnt += 1\n",
        "\n",
        "    return cnt\n",
        "\n",
        "def thumbnail(img, size=256):\n",
        "    \"\"\"\n",
        "    resize image so smallest side will be equal to size\n",
        "    \"\"\"\n",
        "    \n",
        "    img = img.copy()\n",
        "\n",
        "    if img.mode not in ('L', 'RGB'):\n",
        "        img = img.convert('RGB')\n",
        "\n",
        "    width, height = img.size\n",
        "\n",
        "    if width == height:\n",
        "        img.thumbnail((size, size), Image.ANTIALIAS)\n",
        "\n",
        "    elif height > width:\n",
        "        ratio = float(height) / float(width)\n",
        "        newheight = ratio * size\n",
        "        img = img.resize((size, int(floor(newheight))), Image.ANTIALIAS)\n",
        "\n",
        "    elif width > height:\n",
        "        ratio = float(width) / float(height)\n",
        "        newwidth = ratio * size\n",
        "        img = img.resize((int(floor(newwidth)), size), Image.ANTIALIAS)\n",
        "\n",
        "\n",
        "    return img\n",
        "\n",
        "def get_crop_bboxes(w, h):\n",
        "    \"\"\"\n",
        "    calculate bounding boxes based on width and height\n",
        "    \"\"\"\n",
        "    n_step = ceil(float(w) / float(h))\n",
        "    shift = (w - h) // n_step\n",
        "    shifting_array = []\n",
        "    for step in range(0, n_step):\n",
        "        if w > h:\n",
        "            shifting = (shift * step, 0, shift * step + h, h)\n",
        "        else:\n",
        "            shifting = (0, shift * step, w, shift * step + w)\n",
        "        shifting_array.append(shifting)\n",
        "    if w > h:\n",
        "        shifting = (w - h, 0, w, h)\n",
        "    else:\n",
        "        shifting = (0, h - w, w, h)\n",
        "    shifting_array.append(shifting)\n",
        "    return shifting_array"
      ],
      "execution_count": null,
      "outputs": []
    },
    {
      "cell_type": "code",
      "metadata": {
        "id": "MtszQjS01CYI",
        "colab": {
          "base_uri": "https://localhost:8080/"
        },
        "cellView": "form",
        "outputId": "32826310-306a-40be-8ce4-18919807518b"
      },
      "source": [
        "#@title Montar Google Drive\n",
        "#@markdown Monte Google Drive para cargar su Dataset, editar las imágenes y guardar los resultados.\n",
        "\n",
        "#@markdown Después de ejecutar esta celda, obtendrá el enlace. Haga click en el enlace, otorgue acceso a su Drive y copie el código de autenticación.\n",
        "\n",
        "#@markdown Pegue el código en la entrada a continuación y presione Enter\n",
        "\n",
        "from google.colab import drive\n",
        "drive.mount('/content/drive')"
      ],
      "execution_count": null,
      "outputs": [
        {
          "output_type": "stream",
          "text": [
            "Mounted at /content/drive\n"
          ],
          "name": "stdout"
        }
      ]
    },
    {
      "cell_type": "code",
      "metadata": {
        "id": "AEkxxHEkxuFy",
        "cellView": "form"
      },
      "source": [
        "#@title Cortar centro\n",
        "#@markdown Esta celda recortará el centro de cada imagen en el directorio de entrada, lo redimensionará y guardará el resultado en el directorio de salida\n",
        "\n",
        "#@markdown Directorio de entrada.\n",
        "input_dir = '' #@param {type:\"string\"}\n",
        "#@markdown Directorio de salida. Si no existe será creado.\n",
        "out_dir = '' #@param {type:'string'}\n",
        "#@markdown Cambiar el tamaño a:\n",
        "resize = \"1024\" #@param [\"256\", \"512\", \"1024\"] {allow-input: true}\n",
        "resize = int(resize)\n",
        "#@markdown Proporción del tamaño de corte. El tamaño del cuadrado recortado será igual a: \"proporción  * tamaño del  lado mas corto\".  `ratio * min side size`\n",
        "ratio = 1 #@param {type:\"slider\", min:0.1, max:1, step:0.05}\n",
        "#@markdown Aumentar el Dataset con rotación. *Mantenerlo **DESACTIVADO** para este taller*.\n",
        "augment = False #@param {type:\"boolean\"}\n",
        "\n",
        "if out_dir[-1] != \"/\":\n",
        "  out_dir += \"/\"\n",
        "\n",
        "if not os.path.exists(out_dir):\n",
        "    os.makedirs(out_dir)\n",
        "\n",
        "images = glob.glob(f'{input_dir}/*.tif')+glob.glob(f'{input_dir}/*.png')+glob.glob(f'{input_dir}/*.jpg')+glob.glob(f'{input_dir}/*.bmp')\n",
        "cnt=0\n",
        "print(f'Cropping {len(images)} images\\n')\n",
        "for image in tqdm(images):\n",
        "  img = Image.open(image)\n",
        "  cropped = crop_center(img, ratio)\n",
        "  resized = cropped.resize((resize, resize), Image.ANTIALIAS)\n",
        "  cnt=save_crop(resized, cnt, out_dir, augment)\n",
        "print(f'Number of images saved: {cnt}')"
      ],
      "execution_count": null,
      "outputs": []
    },
    {
      "cell_type": "code",
      "metadata": {
        "id": "djBeB_42yF0D",
        "cellView": "form"
      },
      "source": [
        "#@title Fraccionar Imágenes\n",
        "\n",
        "#@markdown Esta celda cambiará el tamaño de cada imagen en el directorio de entrada, la dividirá en varias imágenes cuadradas y guardará el resultado en el directorio de salida\n",
        "\n",
        "#@markdown Directorio de entrada\n",
        "input_dir = '' #@param {type:'string'}\n",
        "#@markdown Directorio de salida. Si no existe será creado.\n",
        "out_dir = '' #@param {type:'string'}\n",
        "#@markdown Cambiar el tamaño a:\n",
        "resize = \"512\" #@param [256, 512, 1024] {allow-input: true}\n",
        "resize = int(resize)\n",
        "#@markdown Aumentar el Dataset con rotación. *Mantenerlo **DESACTIVADO** para este taller*.\n",
        "Aumentar = False #@param {type:\"boolean\"}\n",
        "\n",
        "if out_dir[-1] != \"/\":\n",
        "  out_dir += \"/\"\n",
        "\n",
        "if not os.path.exists(out_dir):\n",
        "    os.makedirs(out_dir)\n",
        "\n",
        "images = glob.glob(f'{input_dir}/*.tif')+glob.glob(f'{input_dir}/*.png')+glob.glob(f'{input_dir}/*.jpg')+glob.glob(f'{input_dir}/*.bmp')\n",
        "cnt=0\n",
        "print(f'Cropping {len(images)} images\\n')\n",
        "for image in tqdm(images):\n",
        "    img = Image.open(image)\n",
        "    img = thumbnail(img, size=resize)\n",
        "    w, h = img.size\n",
        "    bboxes = get_crop_bboxes(w, h)\n",
        "    for bbox in bboxes:\n",
        "        img_cropped = img.crop(bbox)\n",
        "        cnt = save_crop(img_cropped, cnt, out_dir, False)\n",
        "print(f'Number of images saved: {cnt}')"
      ],
      "execution_count": null,
      "outputs": []
    },
    {
      "cell_type": "code",
      "metadata": {
        "id": "kJmepgICy1cG",
        "cellView": "form"
      },
      "source": [
        "#@title Verificar Imágenes\n",
        "#@markdown Esta celda verificará las imágenes en el directorio de entrada. Las imágenes se redimensionarán al tamaño definido, se convertirán a RGB y se guardarán en el directorio de salida\n",
        "\n",
        "#@markdown Directorio de entrada.\n",
        "input_dir = '' #@param {type:'string'}\n",
        "#@markdown Directorio de salida. Si no existe será creado.\n",
        "out_dir = '' #@param {type:'string'}\n",
        "#@markdown Cambiar el tamaño a:\n",
        "resize = \"1024\" #@param [256, 512, 1024] {allow-input: true}\n",
        "resize = int(resize)\n",
        "\n",
        "if out_dir[-1] != \"/\":\n",
        "  out_dir += \"/\"\n",
        "\n",
        "if not os.path.exists(out_dir):\n",
        "    os.makedirs(out_dir)\n",
        "\n",
        "images = glob.glob(f'{input_dir}/*.tif')+glob.glob(f'{input_dir}/*.png')+glob.glob(f'{input_dir}/*.jpg')+glob.glob(f'{input_dir}/*.bmp')\n",
        "cnt=0\n",
        "print(f'Verifying {len(images)} images\\n')\n",
        "for image in tqdm(images):\n",
        "    img = Image.open(image)\n",
        "    img = img.resize((resize, resize), Image.ANTIALIAS)\n",
        "    imgarr = np.array(img)\n",
        "    img_channels = 1 if len(imgarr.shape) == 2 else imgarr.shape[2]\n",
        "    if img_channels == 1:\n",
        "      # print(imgarr.shape)\n",
        "      R = np.stack((imgarr, imgarr, imgarr), axis=2)\n",
        "      img = Image.fromarray(R, 'RGB')\n",
        "      imgarr = np.array(img)\n",
        "      # print(imgarr.shape)\n",
        "    if img.mode in ('RGBA', 'LA') or (img.mode == 'P' and 'transparency' in img.info):\n",
        "      bg = Image.new('RGB', img.size, (255, 255, 255))\n",
        "      \n",
        "      bg.paste(img, (0, 0), img)\n",
        "      img = bg\n",
        "    img.save(f'{out_dir}{cnt:08d}.png')\n",
        "    cnt+=1\n",
        "    "
      ],
      "execution_count": null,
      "outputs": []
    },
    {
      "cell_type": "code",
      "metadata": {
        "id": "WdYlMb15rbRl",
        "cellView": "form"
      },
      "source": [
        "#@title Mejora automática de imágenes\n",
        "\n",
        "\n",
        "\n",
        "#@markdown Directorio de entrada\n",
        "input_dir = '' #@param {type:'string'}\n",
        "#@markdown Directorio de salida. Si no existe será creado.\n",
        "out_dir = '' #@param {type:'string'}\n",
        "#@markdown Opciones de mejora:\n",
        "auto_level = True #@param {type:\"boolean\"}\n",
        "auto_gamma = False #@param {type:\"boolean\"}\n",
        "invert = False #@param {type:\"boolean\"}\n",
        "\n",
        "options = ''\n",
        "options+=' -auto-level' if auto_level else ''\n",
        "options+=' -auto-gamma' if auto_gamma else ''\n",
        "options+=' -negate' if invert else ''\n",
        "\n",
        "if out_dir[-1] != \"/\":\n",
        "  out_dir += \"/\"\n",
        "\n",
        "if not os.path.exists(out_dir):\n",
        "    os.makedirs(out_dir)\n",
        "\n",
        "images = glob.glob(f'{input_dir}/*.tif')+glob.glob(f'{input_dir}/*.png')+glob.glob(f'{input_dir}/*.jpg')+glob.glob(f'{input_dir}/*.bmp')\n",
        "print(f'Enhancing {len(images)} images\\n')\n",
        "for image in tqdm(images):\n",
        "  outfile = f\"{out_dir}{image.split('/')[-1]}\"\n",
        "  !convert {image} {options} {outfile}"
      ],
      "execution_count": null,
      "outputs": []
    }
  ]
}